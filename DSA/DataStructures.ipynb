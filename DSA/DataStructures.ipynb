{
 "cells": [
  {
   "cell_type": "markdown",
   "metadata": {},
   "source": [
    "### DATA STRUCTURES  \n",
    "    * Arrays (Python Lists)\n",
    "    \n",
    "    * Linked Lists\n",
    "        * add_front(d)\n",
    "        * add_back(d)\n",
    "        * add_before(d, k)\n",
    "        * add_after(d, k)\n",
    "        * remove_front()\n",
    "        * remove_back()\n",
    "        * remove(d)\n",
    "        * find(d)\n",
    "        * print_list()\n",
    "        \n",
    "    * Stacks\n",
    "        * push(d)\n",
    "        * pop()\n",
    "        * peek()\n",
    "        * is_empty()\n",
    "        * get_stack()\n",
    "    \n",
    "    * Queues\n",
    "        * enqueue(d)\n",
    "        * dequeue()\n",
    "        * is_empty()\n",
    "        * get_queue()\n",
    "        \n",
    "    * Trees\n",
    "        * insert(d)\n",
    "        * height()\n",
    "        * find(d)\n",
    "        * inorder_traversal()\n",
    "        * preorder_traversal()\n",
    "        * postorder_traversal()\n",
    "           \n",
    "    * Heaps\n",
    "        * heapify(idx)\n",
    "        * insert_item(i)\n",
    "        * pop_item()\n",
    "        * remove_item(i)\n",
    "        * max_item()\n",
    "        * min_item()\n",
    "        * print_heap()\n",
    "        \n",
    "    * Hashing\n",
    "        * Hash table has slots to store items\n",
    "        * Hash function to map items to slots\n",
    "        * Load Factor = No of Items / Table Size\n",
    "        \n",
    "        * Perfect hash function - map items to unique slot\n",
    "            - Folding Method\n",
    "            - Mid Square Method\n",
    "            \n",
    "        * Collision is allocating multiple items to the same slot\n",
    "            - Open Addressing or Linear Probing (Quadratic Probing)\n",
    "            - Avoid clustering by Chaining\n",
    "            \n",
    "        * get_hash(k)\n",
    "        * add_pair(k, v)\n",
    "        * remove_pair(k)\n",
    "        * get_value(k)\n",
    "        * print_map()"
   ]
  },
  {
   "cell_type": "markdown",
   "metadata": {},
   "source": [
    "    * Array\n",
    "| Operation      |Time Complexity|\n",
    "|----------------|---------------|\n",
    "| AddFront(x)    |O(N)           |      \n",
    "| AddBack(x)     |O(1)           |          \n",
    "| RemoveFront(x) |O(N)           |          \n",
    "| RemoveBack(x)  |O(1)           |       \n",
    "| Access(idx)    |O(1)           |        \n",
    "| IsEmpty(a)     |O(1)           |  "
   ]
  },
  {
   "cell_type": "markdown",
   "metadata": {},
   "source": [
    "    * Singly LinkedList\n",
    "| Operation            |Without Tail|With Tail|\n",
    "|----------------------|------------|---------|\n",
    "| PushFront(key)       |O(1)        |         |\n",
    "| TopFront()           |O(1)        |         |\n",
    "| PopFront()           |O(1)        |         |     \n",
    "| PushBack(key)        |O(N)        |O(1)     |\n",
    "| TopBack()            |O(N)        |O(1)     |\n",
    "| PopBack()            |O(N)        |         |\n",
    "| AddBefore(key, node) |O(N)        |         |\n",
    "| AddAfter(key, node)  |O(N)        |         |\n",
    "| IsEmpty()            |O(1)        |         |\n",
    "| Find(key)            |O(N)        |         |\n",
    "\n",
    "    * Doubly LinkedList\n",
    "| Operation            |Without Tail|With Tail|\n",
    "|----------------------|------------|---------|\n",
    "| PushFront(key)       |O(1)        |         |\n",
    "| TopFront()           |O(1)        |         |\n",
    "| PopFront()           |O(1)        |         |     \n",
    "| PushBack(key)        |O(N)        |O(1)     |\n",
    "| TopBack()            |O(N)        |O(1)     |\n",
    "| PopBack()            |O(N)        |O(1)     |\n",
    "| AddBefore(key, node) |O(N)        |         |\n",
    "| AddAfter(key, node)  |O(N)        |         |\n",
    "| IsEmpty()            |O(1)        |         |\n",
    "| Find(key)            |O(N)        |         |"
   ]
  },
  {
   "cell_type": "markdown",
   "metadata": {},
   "source": [
    "    * Stack\n",
    "| Operation  |Time Complexity|\n",
    "|------------|---------------|\n",
    "| Push(d)    |O(1)           |      \n",
    "| Pop()      |O(1)           |   \n",
    "| Peek()     |O(1)           | \n",
    "| IsEmpty()  |O(1)           |\n",
    "\n",
    "    * Queue\n",
    "| Operation  |Time Complexity|\n",
    "|------------|---------------|\n",
    "| Enqueue(d) |O(1)           |      \n",
    "| Dequeue()  |O(1)           |   \n",
    "| Peek()     |O(1)           | \n",
    "| IsEmpty()  |O(1)           |"
   ]
  },
  {
   "cell_type": "markdown",
   "metadata": {},
   "source": [
    "    * Binary Search Tree (using LinkedList)\n",
    "| Operation   |Time Complexity|\n",
    "|-------------|---------------|\n",
    "| Insert(d)   |O(logN)        |      \n",
    "| Remove()    |O(logN)        |  \n",
    "| Search(d)   |O(logN)        |\n",
    "| Traversal() |O(N)           |\n",
    "\n",
    "    * Heap (using Array)\n",
    "| Operation   |Time Complexity|\n",
    "|-------------|---------------|\n",
    "| Insert(d)   |O(logN)        |      \n",
    "| Remove()    |O(logN)        |  \n",
    "| Search(idx) |O(1)           |\n",
    "| Traversal() |O(N)           | "
   ]
  },
  {
   "cell_type": "markdown",
   "metadata": {},
   "source": [
    "    * HashMap\n",
    "| Operation          |Time Complexity|\n",
    "|--------------------|---------------|\n",
    "| AddPair(key, value)|O(1)           |      \n",
    "| RemovePair(key)    |O(1)           |  \n",
    "| GetValue(key)      |O(1)           |"
   ]
  },
  {
   "cell_type": "markdown",
   "metadata": {},
   "source": [
    "### ARRAY"
   ]
  },
  {
   "cell_type": "code",
   "execution_count": 1,
   "metadata": {
    "scrolled": true
   },
   "outputs": [],
   "source": [
    "import array"
   ]
  },
  {
   "cell_type": "code",
   "execution_count": 2,
   "metadata": {
    "scrolled": true
   },
   "outputs": [],
   "source": [
    "def PrintArray(array):\n",
    "    for i in range(0, len(array)):\n",
    "        print(array[i], end = \" \")"
   ]
  },
  {
   "cell_type": "code",
   "execution_count": 3,
   "metadata": {
    "scrolled": true
   },
   "outputs": [],
   "source": [
    "myarr1 = array.array('i', [4, 6, 9, 5, 2])\n",
    "myarr2 = array.array('i', [12, 67, 89, 99, 145])"
   ]
  },
  {
   "cell_type": "code",
   "execution_count": 4,
   "metadata": {
    "scrolled": true
   },
   "outputs": [
    {
     "name": "stdout",
     "output_type": "stream",
     "text": [
      "4 6 9 5 2 1 "
     ]
    }
   ],
   "source": [
    "myarr1.append(1)\n",
    "PrintArray(myarr1)"
   ]
  },
  {
   "cell_type": "code",
   "execution_count": 5,
   "metadata": {
    "scrolled": true
   },
   "outputs": [
    {
     "name": "stdout",
     "output_type": "stream",
     "text": [
      "4 6 9 5 4 2 1 "
     ]
    }
   ],
   "source": [
    "myarr1.insert(4, 4)\n",
    "PrintArray(myarr1)"
   ]
  },
  {
   "cell_type": "code",
   "execution_count": 6,
   "metadata": {
    "scrolled": true
   },
   "outputs": [
    {
     "name": "stdout",
     "output_type": "stream",
     "text": [
      "6 9 5 4 2 1 "
     ]
    }
   ],
   "source": [
    "myarr1.remove(4)\n",
    "PrintArray(myarr1)"
   ]
  },
  {
   "cell_type": "code",
   "execution_count": 7,
   "metadata": {
    "scrolled": true
   },
   "outputs": [
    {
     "name": "stdout",
     "output_type": "stream",
     "text": [
      "6 9 5 4 2 "
     ]
    }
   ],
   "source": [
    "myarr1.pop(5)\n",
    "PrintArray(myarr1)"
   ]
  },
  {
   "cell_type": "markdown",
   "metadata": {},
   "source": [
    "### LINKED LIST \n",
    "    https://www.youtube.com/watch?v=Ast5sKQXxEU"
   ]
  },
  {
   "cell_type": "code",
   "execution_count": 8,
   "metadata": {
    "scrolled": true
   },
   "outputs": [],
   "source": [
    "class Node(object):\n",
    "    def __init__(self, d, n = None):\n",
    "        self.data = d\n",
    "        self.next_node = n\n",
    "        \n",
    "    def set_data(self, d):\n",
    "        self.data = d\n",
    "    \n",
    "    def get_data(self):\n",
    "        return self.data\n",
    "    \n",
    "    def set_next(self, n):\n",
    "        self.next_node = n\n",
    "        \n",
    "    def get_next(self):\n",
    "        return self.next_node\n",
    "    \n",
    "class LinkedList(object):\n",
    "    def __init__(self, r = None):\n",
    "        self.root = r\n",
    "        self.size = 0\n",
    "        \n",
    "    def get_size(self):\n",
    "        return self.size\n",
    "    \n",
    "    def add_front(self, d):\n",
    "        new_node = Node(d, self.root)\n",
    "        self.root = new_node\n",
    "        self.size += 1\n",
    "        \n",
    "    def add_back(self, d):\n",
    "        new_node = Node(d, self.root)\n",
    "        if self.root is None:\n",
    "            self.root = new_node\n",
    "            self.size += 1\n",
    "            return True\n",
    "        else:\n",
    "            this_node = self.root\n",
    "            while this_node.get_next():\n",
    "                this_node = this_node.get_next()\n",
    "            this_node.set_next(new_node)\n",
    "            new_node.set_next(None)\n",
    "            self.size += 1\n",
    "            return True\n",
    "        return False\n",
    "        \n",
    "    def add_before(self, d, k):\n",
    "        if self.root is None:\n",
    "            return 'List is Empty'\n",
    "        new_node = Node(d, self.root)\n",
    "        this_node = self.root\n",
    "        prev_node = None\n",
    "        while this_node:\n",
    "            if this_node.get_data() == k:\n",
    "                if prev_node is None:\n",
    "                    new_node.set_next(this_node)\n",
    "                    self.root = new_node\n",
    "                    self.size += 1\n",
    "                    return True\n",
    "                else:\n",
    "                    new_node.set_next(this_node)\n",
    "                    prev_node.set_next(new_node)\n",
    "                    self.size += 1\n",
    "                    return True\n",
    "            else:\n",
    "                prev_node = this_node\n",
    "                this_node = this_node.get_next()\n",
    "        return False\n",
    "    \n",
    "    def add_after(self, d, k):\n",
    "        if self.root is None:\n",
    "            return 'List is Empty'\n",
    "        new_node = Node(d, self.root)\n",
    "        this_node = self.root\n",
    "        while this_node:\n",
    "            if this_node.get_data() == k:\n",
    "                if this_node.get_next():\n",
    "                    new_node.set_next(this_node.get_next())\n",
    "                else:\n",
    "                    new_node.set_next(None)\n",
    "                this_node.set_next(new_node)\n",
    "                self.size += 1\n",
    "                return True\n",
    "            else:\n",
    "                this_node = this_node.get_next()\n",
    "        return False\n",
    "    \n",
    "    def remove_front(self):\n",
    "        if self.root is None:\n",
    "            return 'List is Empty'\n",
    "        else:\n",
    "            this_node = self.root\n",
    "            if this_node.get_next():\n",
    "                self.root = this_node.get_next()\n",
    "                self.size -= 1\n",
    "                return True\n",
    "            else:\n",
    "                self.root = None\n",
    "                return True\n",
    "        return False\n",
    "\n",
    "    def remove_back(self):\n",
    "        if self.root is None:\n",
    "            return 'List is Empty'\n",
    "        else:\n",
    "            this_node = self.root\n",
    "            prev_node = None\n",
    "            if this_node.get_next() is None:\n",
    "                self.root = None\n",
    "                self.size -= 1\n",
    "                return True\n",
    "            else:\n",
    "                while this_node.get_next():\n",
    "                    prev_node = this_node\n",
    "                    this_node = this_node.get_next()\n",
    "                prev_node.set_next(None)\n",
    "                self.size -= 1\n",
    "                return True\n",
    "        return False\n",
    "        \n",
    "    def remove_node(self, k):\n",
    "        this_node = self.root\n",
    "        prev_node = None\n",
    "        while this_node:\n",
    "            if this_node.get_data() == k:\n",
    "                prev_node.set_next(this_node.get_next())\n",
    "                return True\n",
    "            else:\n",
    "                prev_node = this_node\n",
    "                this_node = this_node.get_next()\n",
    "        return False       \n",
    "    \n",
    "    def print_list(self):\n",
    "        this_node = self.root\n",
    "        while this_node:\n",
    "            print(this_node.get_data())\n",
    "            this_node = this_node.get_next()\n",
    "     \n",
    "    def find_node(self, k):\n",
    "        if self.root is None:\n",
    "            return 'List is Empty'\n",
    "        this_node = self.root\n",
    "        while this_node:\n",
    "            if this_node.get_data() == k:\n",
    "                return True\n",
    "            else:\n",
    "                this_node = this_node.get_next()\n",
    "        return False"
   ]
  },
  {
   "cell_type": "code",
   "execution_count": 9,
   "metadata": {
    "scrolled": true
   },
   "outputs": [
    {
     "name": "stdout",
     "output_type": "stream",
     "text": [
      "Initial:\n",
      "7\n",
      "3\n",
      "Add Front:\n",
      "9\n",
      "7\n",
      "3\n",
      "Add Back:\n",
      "9\n",
      "7\n",
      "3\n",
      "1\n",
      "Add Before 3:\n",
      "9\n",
      "7\n",
      "5\n",
      "3\n",
      "1\n",
      "Add After 1:\n",
      "9\n",
      "7\n",
      "5\n",
      "3\n",
      "1\n",
      "-3\n",
      "Remove Front:\n",
      "7\n",
      "5\n",
      "3\n",
      "1\n",
      "-3\n",
      "Remove Back:\n",
      "7\n",
      "5\n",
      "3\n",
      "1\n",
      "Remove:\n",
      "7\n",
      "5\n",
      "3\n",
      "Find 1:  False\n",
      "Find 3: True\n"
     ]
    }
   ],
   "source": [
    "mylist = LinkedList()\n",
    "\n",
    "mylist.add_front(3)\n",
    "mylist.add_front(7)\n",
    "print('Initial:')\n",
    "mylist.print_list()\n",
    "\n",
    "mylist.add_front(9)\n",
    "print('Add Front:')\n",
    "mylist.print_list()\n",
    "\n",
    "mylist.add_back(1)\n",
    "print('Add Back:')\n",
    "mylist.print_list()\n",
    "\n",
    "mylist.add_before(5, 3)\n",
    "print('Add Before 3:')\n",
    "mylist.print_list()\n",
    "\n",
    "mylist.add_after(-3, 1)\n",
    "print('Add After 1:')\n",
    "mylist.print_list()\n",
    "\n",
    "mylist.remove_front()\n",
    "print('Remove Front:')\n",
    "mylist.print_list()\n",
    "\n",
    "mylist.remove_back()\n",
    "print('Remove Back:')\n",
    "mylist.print_list()\n",
    "\n",
    "mylist.remove_node(1)\n",
    "print('Remove:')\n",
    "mylist.print_list()\n",
    "\n",
    "print('Find 1: ', mylist.find_node(1))\n",
    "print('Find 3:', mylist.find_node(3))"
   ]
  },
  {
   "cell_type": "markdown",
   "metadata": {},
   "source": [
    "### STACKS"
   ]
  },
  {
   "cell_type": "markdown",
   "metadata": {},
   "source": [
    "##### STACKS USING ARRAY - Push or Pop from the back"
   ]
  },
  {
   "cell_type": "code",
   "execution_count": 10,
   "metadata": {
    "scrolled": true
   },
   "outputs": [],
   "source": [
    "class StacksUsingArray(object):\n",
    "    def __init__(self):\n",
    "        self.items = []\n",
    "        \n",
    "    def push(self, item):\n",
    "        self.items.append(item)\n",
    "        \n",
    "    def pop(self):\n",
    "        return self.items.pop()\n",
    "        \n",
    "    def peek(self):\n",
    "        if self.items != []:\n",
    "            return self.items[-1]\n",
    "        return 'Stack is Empty'\n",
    "        \n",
    "    def is_empty(self):\n",
    "        if self.items == []:\n",
    "            return True\n",
    "        return False\n",
    "    \n",
    "    def get_stack(self):\n",
    "        if self.items != []:\n",
    "            return self.items\n",
    "        return 'Stack is Empty'"
   ]
  },
  {
   "cell_type": "code",
   "execution_count": 11,
   "metadata": {
    "scrolled": true
   },
   "outputs": [
    {
     "name": "stdout",
     "output_type": "stream",
     "text": [
      "Print Stack: [10, 20, 30]\n",
      "Peek: 30\n",
      "Stack after first Pop: [10, 20]\n",
      "Stack after second Pop: [10]\n",
      "Is Stack Empty?? -  False\n",
      "Print Stack: [10]\n",
      "Stack after third Pop: Stack is Empty\n",
      "Is Stack Empty?? -  True\n"
     ]
    }
   ],
   "source": [
    "mystackarr = StacksUsingArray()\n",
    "mystackarr.push(10)\n",
    "mystackarr.push(20)\n",
    "mystackarr.push(30)\n",
    "print('Print Stack:', mystackarr.get_stack())\n",
    "print('Peek:', mystackarr.peek())\n",
    "\n",
    "mystackarr.pop()\n",
    "print('Stack after first Pop:', mystackarr.get_stack())\n",
    "\n",
    "mystackarr.pop()\n",
    "print('Stack after second Pop:', mystackarr.get_stack())\n",
    "\n",
    "print('Is Stack Empty?? - ',mystackarr.is_empty())\n",
    "print('Print Stack:', mystackarr.get_stack())\n",
    "\n",
    "mystackarr.pop()\n",
    "print('Stack after third Pop:', mystackarr.get_stack())\n",
    "\n",
    "print('Is Stack Empty?? - ',mystackarr.is_empty())"
   ]
  },
  {
   "cell_type": "markdown",
   "metadata": {},
   "source": [
    "##### STACKS USING LINKEDLIST - Push or Pop from the front"
   ]
  },
  {
   "cell_type": "code",
   "execution_count": 12,
   "metadata": {
    "scrolled": true
   },
   "outputs": [],
   "source": [
    "class Node(object):\n",
    "    def __init__(self, d, n = None):\n",
    "        self.data = d\n",
    "        self.next = n\n",
    "        \n",
    "    def get_data(self):\n",
    "        return self.data\n",
    "    \n",
    "    def set_data(self, d):\n",
    "        self.data = d\n",
    "        \n",
    "    def get_next(self):\n",
    "        return self.next\n",
    "    \n",
    "    def set_next(self, n):\n",
    "        self.next = n\n",
    "        \n",
    "class StackUsingLL(object):\n",
    "    def __init__(self, r = None):\n",
    "        self.root = r\n",
    "        self.size = 0\n",
    "        \n",
    "    def get_size(self):\n",
    "        return self.size\n",
    "    \n",
    "    def push(self, d):\n",
    "        new_node = Node(d, self.root)\n",
    "        self.root = new_node\n",
    "        self.size += 1\n",
    "        \n",
    "    def pop(self):\n",
    "        if self.root is None:\n",
    "            return 'Stack is Empty'\n",
    "        this_node = self.root\n",
    "        if this_node.get_next() is None:\n",
    "            self.root = None\n",
    "            self.size = 0\n",
    "        else:\n",
    "            self.root = this_node.get_next()\n",
    "            self.size -= 1\n",
    "        return True\n",
    "        \n",
    "    def peek(self):\n",
    "        if self.root is None:\n",
    "            return 'Stack is Empty'\n",
    "        this_node = self.root\n",
    "        return this_node.get_data()\n",
    "        \n",
    "    def is_empty(self):\n",
    "        if self.root is None:\n",
    "            return True\n",
    "        return False\n",
    "        \n",
    "    def get_stack(self):\n",
    "        if self.root is None:\n",
    "            return 'Stack is Empty'\n",
    "        else:\n",
    "            this_node = self.root\n",
    "            while this_node:\n",
    "                print(this_node.get_data())\n",
    "                this_node = this_node.get_next()"
   ]
  },
  {
   "cell_type": "code",
   "execution_count": 13,
   "metadata": {
    "scrolled": true
   },
   "outputs": [
    {
     "name": "stdout",
     "output_type": "stream",
     "text": [
      "Initial Size of Stack:  1\n",
      "Print Stack after Push:\n",
      "30\n",
      "20\n",
      "10\n",
      "Size of Stack after Push:  3\n",
      "Peek: 30\n",
      "Print Stack after First Pop:\n",
      "20\n",
      "10\n",
      "Size of Stack after First Pop:  2\n",
      "Print Stack after Second Pop:\n",
      "10\n",
      "Size of Stack after Second Pop:  1\n",
      "Is Stack Empty?? -  False\n",
      "Print Stack after Third Pop:\n",
      "Is Stack Empty?? -  True\n"
     ]
    }
   ],
   "source": [
    "mystackll = StackUsingLL()\n",
    "mystackll.push(10)\n",
    "print('Initial Size of Stack: ', mystackll.get_size())\n",
    "\n",
    "mystackll.push(20)\n",
    "mystackll.push(30)\n",
    "\n",
    "print('Print Stack after Push:')\n",
    "mystackll.get_stack()\n",
    "print('Size of Stack after Push: ', mystackll.get_size())\n",
    "\n",
    "print('Peek:', mystackll.peek())\n",
    "\n",
    "mystackll.pop()\n",
    "print('Print Stack after First Pop:')\n",
    "mystackll.get_stack()\n",
    "print('Size of Stack after First Pop: ', mystackll.get_size())\n",
    "\n",
    "mystackll.pop()\n",
    "print('Print Stack after Second Pop:')\n",
    "mystackll.get_stack()\n",
    "print('Size of Stack after Second Pop: ', mystackll.get_size())\n",
    "\n",
    "print('Is Stack Empty?? - ', mystackll.is_empty())\n",
    "\n",
    "mystackll.pop()\n",
    "print('Print Stack after Third Pop:')\n",
    "mystackll.get_stack()\n",
    "\n",
    "print('Is Stack Empty?? - ',mystackll.is_empty())"
   ]
  },
  {
   "cell_type": "markdown",
   "metadata": {},
   "source": [
    "###  QUEUES"
   ]
  },
  {
   "cell_type": "markdown",
   "metadata": {},
   "source": [
    "##### QUEUE USING ARRAY - Enqueue from the front and Dequeue from the back"
   ]
  },
  {
   "cell_type": "code",
   "execution_count": 14,
   "metadata": {},
   "outputs": [],
   "source": [
    "class QueueUsingArray(object):\n",
    "    def __init__(self):\n",
    "        self.items = []\n",
    "    \n",
    "    def enqueue(self, item):\n",
    "        self.items.insert(0, item)\n",
    "        \n",
    "    def dequeue(self):\n",
    "        return self.items.pop()\n",
    "        \n",
    "    def is_empty(self):\n",
    "        if self.items == []:\n",
    "            return True\n",
    "        return False\n",
    "        \n",
    "    def get_queue(self):\n",
    "        return self.items"
   ]
  },
  {
   "cell_type": "code",
   "execution_count": 15,
   "metadata": {},
   "outputs": [
    {
     "name": "stdout",
     "output_type": "stream",
     "text": [
      "Print queue after first enqueue: [10]\n",
      "Print queue after third enqueue: [30, 20, 10]\n",
      "Print queue after first dequeue: [30, 20]\n",
      "Print queue after second dequeue: [30]\n",
      "Is Empty:  False\n",
      "Print queue after third dequeue: []\n",
      "Is Empty:  True\n"
     ]
    }
   ],
   "source": [
    "myqueuearr = QueueUsingArray()\n",
    "\n",
    "myqueuearr.enqueue(10)\n",
    "print('Print queue after first enqueue:', myqueuearr.get_queue())\n",
    "\n",
    "myqueuearr.enqueue(20)\n",
    "myqueuearr.enqueue(30)\n",
    "print('Print queue after third enqueue:', myqueuearr.get_queue())\n",
    "\n",
    "myqueuearr.dequeue()\n",
    "print('Print queue after first dequeue:', myqueuearr.get_queue())\n",
    "\n",
    "myqueuearr.dequeue()\n",
    "print('Print queue after second dequeue:', myqueuearr.get_queue())\n",
    "\n",
    "print('Is Empty: ',myqueuearr.is_empty())\n",
    "\n",
    "myqueuearr.dequeue()\n",
    "print('Print queue after third dequeue:', myqueuearr.get_queue())\n",
    "\n",
    "print('Is Empty: ',myqueuearr.is_empty())"
   ]
  },
  {
   "cell_type": "markdown",
   "metadata": {},
   "source": [
    "##### QUEUE USING LINKEDLIST - Enqueue from the back and Dequeue from the front"
   ]
  },
  {
   "cell_type": "code",
   "execution_count": 16,
   "metadata": {},
   "outputs": [],
   "source": [
    "class Node(object):\n",
    "    def __init__(self, d, n = None):\n",
    "        self.data = d\n",
    "        self.next = n\n",
    "        \n",
    "    def get_data(self):\n",
    "        return self.data\n",
    "    \n",
    "    def set_data(self, d):\n",
    "        self.data = d\n",
    "        \n",
    "    def get_next(self):\n",
    "        return self.next\n",
    "    \n",
    "    def set_next(self, n):\n",
    "        self.next = n\n",
    "\n",
    "class QueueUsingLL(object):\n",
    "    def __init__(self, r = None, t = None):\n",
    "        self.root = r\n",
    "        self.tail = t\n",
    "        self.size = 0\n",
    "        \n",
    "    def enqueue(self, d):\n",
    "        new_node = Node(d, self.root)\n",
    "        if self.root is None:\n",
    "            self.root = new_node\n",
    "        else:\n",
    "            tail_node = self.tail\n",
    "            tail_node.set_next(new_node)\n",
    "        new_node.set_next(None)\n",
    "        self.tail = new_node\n",
    "        self.size += 1\n",
    "        \n",
    "    def dequeue(self):\n",
    "        if self.root is None:\n",
    "            print('Queue is Empty')\n",
    "        this_node = self.root\n",
    "        if this_node.get_next():\n",
    "            self.root = this_node.get_next()\n",
    "        else:\n",
    "            self.root = None\n",
    "            self.tail = None\n",
    "        self.size -= 1\n",
    "        \n",
    "    def is_empty(self):\n",
    "        if self.root is None:\n",
    "            return True\n",
    "        return False\n",
    "    \n",
    "    def get_queue(self):\n",
    "        if self.root is None:\n",
    "            print ('Queue is Empty')\n",
    "        this_node = self.root\n",
    "        while this_node:\n",
    "            print(this_node.get_data())\n",
    "            this_node = this_node.get_next()"
   ]
  },
  {
   "cell_type": "code",
   "execution_count": 17,
   "metadata": {},
   "outputs": [
    {
     "name": "stdout",
     "output_type": "stream",
     "text": [
      "Print Queue after First Enqueue:\n",
      "10\n",
      "Print Queue after Third Enqueue:\n",
      "10\n",
      "20\n",
      "30\n",
      "Print Queue after First Dequeue:\n",
      "20\n",
      "30\n",
      "Print Queue after Second Dequeue:\n",
      "30\n",
      "Is Queue Empty?? -  False\n",
      "Print Queue after Second Dequeue:\n",
      "30\n",
      "Print Queue after Third Dequeue:\n",
      "Queue is Empty\n",
      "Is Queue Empty?? -  True\n"
     ]
    }
   ],
   "source": [
    "myqueuell = QueueUsingLL()\n",
    "\n",
    "myqueuell.enqueue(10)\n",
    "print('Print Queue after First Enqueue:')\n",
    "myqueuell.get_queue()\n",
    "\n",
    "myqueuell.enqueue(20)\n",
    "myqueuell.enqueue(30)\n",
    "print('Print Queue after Third Enqueue:')\n",
    "myqueuell.get_queue()\n",
    "\n",
    "myqueuell.dequeue()\n",
    "print('Print Queue after First Dequeue:')\n",
    "myqueuell.get_queue()\n",
    "\n",
    "myqueuell.dequeue()\n",
    "print('Print Queue after Second Dequeue:')\n",
    "myqueuell.get_queue()\n",
    "\n",
    "print('Is Queue Empty?? - ',myqueuell.is_empty())\n",
    "print('Print Queue after Second Dequeue:')\n",
    "myqueuell.get_queue()\n",
    "\n",
    "myqueuell.dequeue()\n",
    "print('Print Queue after Third Dequeue:')\n",
    "myqueuell.get_queue()\n",
    "\n",
    "print('Is Queue Empty?? - ',myqueuell.is_empty())"
   ]
  },
  {
   "cell_type": "markdown",
   "metadata": {},
   "source": [
    "### TREES - Binary Search Tree"
   ]
  },
  {
   "cell_type": "code",
   "execution_count": 18,
   "metadata": {
    "scrolled": true
   },
   "outputs": [],
   "source": [
    "class TreeNode(object):\n",
    "    def __init__(self, d):\n",
    "        self.data = d\n",
    "        self.left = None\n",
    "        self.right = None\n",
    "        self.parent = None\n",
    "        \n",
    "class BST(object):\n",
    "    def __init__(self):\n",
    "        self.root = None\n",
    "        \n",
    "    def insert_node(self, d):\n",
    "        if self.root is None:\n",
    "            self.root = TreeNode(d)\n",
    "        else:\n",
    "            self._insert_node(d, self.root)\n",
    "            \n",
    "    def _insert_node(self, d, curr_node):\n",
    "        if curr_node.data > d:\n",
    "            if curr_node.left is None:\n",
    "                curr_node.left = TreeNode(d)\n",
    "                curr_node.left.parent = curr_node\n",
    "                return True\n",
    "            else:\n",
    "                self._insert_node(d, curr_node.left)\n",
    "        elif curr_node.data < d:\n",
    "            if curr_node.right is None:\n",
    "                curr_node.right = TreeNode(d)\n",
    "                curr_node.right.parent = curr_node\n",
    "                return True\n",
    "            else:\n",
    "                self._insert_node(d, curr_node.right)\n",
    "        else:\n",
    "            return 'Data already exists.'\n",
    "        \n",
    "    def preorder_traversal(self):\n",
    "        if self.root is None:\n",
    "            print('Tree is empty')\n",
    "        else:\n",
    "            self._preorder_traversal(self.root)\n",
    "        \n",
    "    def _preorder_traversal(self, curr_node):\n",
    "        if curr_node is not None:\n",
    "            print(curr_node.data, end = ' ')\n",
    "            self._preorder_traversal(curr_node.left)\n",
    "            self._preorder_traversal(curr_node.right)\n",
    "\n",
    "    def inorder_traversal(self):\n",
    "        if self.root is None:\n",
    "            print('Tree is empty')\n",
    "        else:\n",
    "            self._inorder_traversal(self.root)\n",
    "            \n",
    "    def _inorder_traversal(self, curr_node):\n",
    "        if curr_node is not None:\n",
    "            self._inorder_traversal(curr_node.left)\n",
    "            print(curr_node.data, end = ' ')\n",
    "            self._inorder_traversal(curr_node.right)\n",
    "            \n",
    "    def postorder_traversal(self):\n",
    "        if self.root is None:\n",
    "            print('Tree is empty')\n",
    "        else:\n",
    "            self._postorder_traversal(self.root)\n",
    "    \n",
    "    def _postorder_traversal(self, curr_node):\n",
    "        if curr_node is not None:\n",
    "            self._postorder_traversal(curr_node.left)\n",
    "            self._postorder_traversal(curr_node.right)\n",
    "            print(curr_node.data, end = ' ')\n",
    "            \n",
    "    def height(self):\n",
    "        return self._height(self.root)\n",
    "            \n",
    "    def _height(self, curr_node):\n",
    "        if curr_node is None:\n",
    "            return -1\n",
    "        return (1 + max(self._height(curr_node.left), self._height(curr_node.right)))\n",
    "    \n",
    "    def find_node(self, d):\n",
    "        if self.root is None:\n",
    "            print('Tree is Empty')\n",
    "        else:\n",
    "            return self._find_node(d, self.root)\n",
    "        \n",
    "    def _find_node(self, d, curr_node):\n",
    "        if curr_node is not None:\n",
    "            if curr_node.data == d:\n",
    "                return True\n",
    "            elif curr_node.data > d:\n",
    "                return self._find_node(d, curr_node.left)\n",
    "            elif curr_node.data < d:\n",
    "                return self._find_node(d, curr_node.right)\n",
    "        return False"
   ]
  },
  {
   "cell_type": "code",
   "execution_count": 19,
   "metadata": {
    "scrolled": true
   },
   "outputs": [
    {
     "name": "stdout",
     "output_type": "stream",
     "text": [
      "Preorder Traversal before Insertion: \n",
      "Tree is empty\n",
      "\n",
      "Height of the Tree before Insertion: \n"
     ]
    }
   ],
   "source": [
    "#                5\n",
    "#             /     \\  \n",
    "#            2       10  \n",
    "#          /   \\   /    \n",
    "#         0    3  7  \n",
    "mytree1 = BST()\n",
    "print('Preorder Traversal before Insertion: ')\n",
    "mytree1.preorder_traversal()\n",
    "print('\\nHeight of the Tree before Insertion: ')\n",
    "mytree1.height()\n",
    "\n",
    "mytree1.insert_node(5)\n",
    "mytree1.insert_node(2)\n",
    "mytree1.insert_node(10)\n",
    "mytree1.insert_node(0)\n",
    "mytree1.insert_node(3)\n",
    "mytree1.insert_node(7)"
   ]
  },
  {
   "cell_type": "code",
   "execution_count": 20,
   "metadata": {},
   "outputs": [
    {
     "name": "stdout",
     "output_type": "stream",
     "text": [
      "Preorder Traversal: \n",
      "5 2 0 3 10 7 \n",
      "Inorder Traversal: \n",
      "0 2 3 5 7 10 \n",
      "Postorder Traversal: \n",
      "0 3 2 7 10 5 \n",
      "Height of the Tree after Insertion: \n"
     ]
    },
    {
     "data": {
      "text/plain": [
       "2"
      ]
     },
     "execution_count": 20,
     "metadata": {},
     "output_type": "execute_result"
    }
   ],
   "source": [
    "print('Preorder Traversal: ')\n",
    "mytree1.preorder_traversal()\n",
    "\n",
    "print('\\nInorder Traversal: ')\n",
    "mytree1.inorder_traversal()\n",
    "\n",
    "print('\\nPostorder Traversal: ')\n",
    "mytree1.postorder_traversal()\n",
    "\n",
    "print('\\nHeight of the Tree after Insertion: ')\n",
    "mytree1.height()"
   ]
  },
  {
   "cell_type": "code",
   "execution_count": 21,
   "metadata": {},
   "outputs": [
    {
     "name": "stdout",
     "output_type": "stream",
     "text": [
      "\n",
      "Find if 5 is in the tree:  True\n"
     ]
    }
   ],
   "source": [
    "print('\\nFind if 5 is in the tree: ', mytree1.find_node(5))"
   ]
  },
  {
   "cell_type": "code",
   "execution_count": 22,
   "metadata": {},
   "outputs": [
    {
     "name": "stdout",
     "output_type": "stream",
     "text": [
      "\n",
      "Find if 15 is in the tree:  False\n"
     ]
    }
   ],
   "source": [
    "print('\\nFind if 15 is in the tree: ', mytree1.find_node(15))"
   ]
  },
  {
   "cell_type": "code",
   "execution_count": 23,
   "metadata": {},
   "outputs": [
    {
     "name": "stdout",
     "output_type": "stream",
     "text": [
      "Preorder Traversal before Insertion: \n",
      "Tree is empty\n",
      "\n",
      "Height of the Tree before Insertion: \n"
     ]
    }
   ],
   "source": [
    "#                8\n",
    "#             /     \\  \n",
    "#            4       10  \n",
    "#          /   \\   /   \\   \n",
    "#         2    5  9    11\n",
    "#       /  \\  / \\  \n",
    "#      1   3 6   7\n",
    "mytree2 = BST()\n",
    "print('Preorder Traversal before Insertion: ')\n",
    "mytree2.preorder_traversal()\n",
    "print('\\nHeight of the Tree before Insertion: ')\n",
    "mytree2.height()\n",
    "\n",
    "mytree2.insert_node(8)\n",
    "mytree2.insert_node(4)\n",
    "mytree2.insert_node(10)\n",
    "mytree2.insert_node(2)\n",
    "mytree2.insert_node(5)\n",
    "mytree2.insert_node(9)\n",
    "mytree2.insert_node(11)\n",
    "mytree2.insert_node(1)\n",
    "mytree2.insert_node(3)\n",
    "mytree2.insert_node(6)\n",
    "mytree2.insert_node(7)"
   ]
  },
  {
   "cell_type": "code",
   "execution_count": 24,
   "metadata": {},
   "outputs": [
    {
     "name": "stdout",
     "output_type": "stream",
     "text": [
      "Preorder Traversal: \n",
      "8 4 2 1 3 5 6 7 10 9 11 \n",
      "Inorder Traversal: \n",
      "1 2 3 4 5 6 7 8 9 10 11 \n",
      "Postorder Traversal: \n",
      "1 3 2 7 6 5 4 9 11 10 8 \n",
      "Height of the Tree after Insertion: \n"
     ]
    },
    {
     "data": {
      "text/plain": [
       "4"
      ]
     },
     "execution_count": 24,
     "metadata": {},
     "output_type": "execute_result"
    }
   ],
   "source": [
    "print('Preorder Traversal: ')\n",
    "mytree2.preorder_traversal()\n",
    "\n",
    "print('\\nInorder Traversal: ')\n",
    "mytree2.inorder_traversal()\n",
    "\n",
    "print('\\nPostorder Traversal: ')\n",
    "mytree2.postorder_traversal()\n",
    "\n",
    "print('\\nHeight of the Tree after Insertion: ')\n",
    "mytree2.height()"
   ]
  },
  {
   "cell_type": "code",
   "execution_count": 25,
   "metadata": {},
   "outputs": [
    {
     "name": "stdout",
     "output_type": "stream",
     "text": [
      "\n",
      "Find if 5 is in the tree:  True\n"
     ]
    }
   ],
   "source": [
    "print('\\nFind if 5 is in the tree: ', mytree2.find_node(5))"
   ]
  },
  {
   "cell_type": "code",
   "execution_count": 26,
   "metadata": {},
   "outputs": [
    {
     "name": "stdout",
     "output_type": "stream",
     "text": [
      "\n",
      "Find if 12 is in the tree:  False\n"
     ]
    }
   ],
   "source": [
    "print('\\nFind if 12 is in the tree: ', mytree2.find_node(15))"
   ]
  },
  {
   "cell_type": "code",
   "execution_count": 27,
   "metadata": {},
   "outputs": [
    {
     "name": "stdout",
     "output_type": "stream",
     "text": [
      "Preorder Traversal before Insertion: \n",
      "Tree is empty\n",
      "\n",
      "Height of the Tree before Insertion: \n"
     ]
    }
   ],
   "source": [
    "#                15\n",
    "#             /     \\  \n",
    "#            8       24  \n",
    "#          /        /  \\  \n",
    "#         5       19    30\n",
    "#                   \\\n",
    "#                   21\n",
    "mytree3 = BST()\n",
    "print('Preorder Traversal before Insertion: ')\n",
    "mytree3.preorder_traversal()\n",
    "print('\\nHeight of the Tree before Insertion: ')\n",
    "mytree3.height()\n",
    "\n",
    "mytree3.insert_node(15)\n",
    "mytree3.insert_node(8)\n",
    "mytree3.insert_node(24)\n",
    "mytree3.insert_node(5)\n",
    "mytree3.insert_node(19)\n",
    "mytree3.insert_node(30)\n",
    "mytree3.insert_node(21)"
   ]
  },
  {
   "cell_type": "code",
   "execution_count": 28,
   "metadata": {
    "scrolled": true
   },
   "outputs": [
    {
     "name": "stdout",
     "output_type": "stream",
     "text": [
      "Preorder Traversal: \n",
      "15 8 5 24 19 21 30 \n",
      "Inorder Traversal: \n",
      "5 8 15 19 21 24 30 \n",
      "Postorder Traversal: \n",
      "5 8 21 19 30 24 15 \n",
      "Height of the Tree after Insertion: \n"
     ]
    },
    {
     "data": {
      "text/plain": [
       "3"
      ]
     },
     "execution_count": 28,
     "metadata": {},
     "output_type": "execute_result"
    }
   ],
   "source": [
    "print('Preorder Traversal: ')\n",
    "mytree3.preorder_traversal()\n",
    "\n",
    "print('\\nInorder Traversal: ')\n",
    "mytree3.inorder_traversal()\n",
    "\n",
    "print('\\nPostorder Traversal: ')\n",
    "mytree3.postorder_traversal()\n",
    "\n",
    "print('\\nHeight of the Tree after Insertion: ')\n",
    "mytree3.height()"
   ]
  },
  {
   "cell_type": "markdown",
   "metadata": {},
   "source": [
    "### MAX HEAP"
   ]
  },
  {
   "cell_type": "code",
   "execution_count": 29,
   "metadata": {},
   "outputs": [],
   "source": [
    "class MaxHeap(object):\n",
    "    def __init__(self, items = []):\n",
    "        self.heap = [0]\n",
    "        if items is not None:\n",
    "            for item in items:\n",
    "                self.heap.append(item)\n",
    "                self.heapify(len(self.heap) - 1)\n",
    "        self.print_heap()\n",
    "\n",
    "    def heapify(self, index):\n",
    "        parent = index // 2\n",
    "        if index <= 1:\n",
    "            return True\n",
    "        elif self.heap[parent] < self.heap[index]:\n",
    "            self.heap[parent], self.heap[index] = self.heap[index], self.heap[parent]\n",
    "            self.heapify(parent)\n",
    "    \n",
    "    def insert_item(self, item):\n",
    "        self.heap.append(item)\n",
    "        if len(self.heap) > 1:\n",
    "            for i in range(1, len(self.heap) + 1):\n",
    "                for j in range(0, i):\n",
    "                    self.heapify(j)\n",
    "        self.print_heap()    \n",
    "    \n",
    "    def pop_item(self):\n",
    "        if len(self.heap) == 2:\n",
    "            self.heap.pop()\n",
    "        elif len(self.heap) > 2:\n",
    "            self.heap[1], self.heap[-1] = self.heap[-1], self.heap[1]\n",
    "            self.heap.pop()\n",
    "            for i in range(1, len(self.heap)+1):\n",
    "                for j in range(0, i):\n",
    "                    self.heapify(j)\n",
    "        else:\n",
    "            return False\n",
    "        self.print_heap()         \n",
    "    \n",
    "    def remove_item(self, item):\n",
    "        if len(self.heap) > 1:\n",
    "            for i in range(len(self.heap)-1):\n",
    "                if self.heap[i] == item:\n",
    "                    self.heap[i], self.heap[-1] = self.heap[-1], self.heap[i]\n",
    "                    self.heap.pop()\n",
    "                    break\n",
    "            for i in range(1, len(self.heap)+1):\n",
    "                for j in range(0, i):\n",
    "                    self.heapify(j)\n",
    "            self.print_heap()\n",
    "    \n",
    "    def max_item(self):\n",
    "        return self.heap[1]\n",
    "    \n",
    "    def min_item(self):\n",
    "        minimum = self.heap[1]\n",
    "        for i in range(1, len(self.heap)-1):\n",
    "            if self.heap[i] < minimum:\n",
    "                minimum = self.heap[i]\n",
    "        return minimum\n",
    "    \n",
    "    def print_heap(self):\n",
    "        if len(self.heap) != 0:\n",
    "            for each in self.heap:\n",
    "                print(each, end = ' ')"
   ]
  },
  {
   "cell_type": "code",
   "execution_count": 30,
   "metadata": {},
   "outputs": [
    {
     "name": "stdout",
     "output_type": "stream",
     "text": [
      "Max Heap Constructed from [89, 70, 15, 18, 21, 65, 63, 90, 36, 75]\n",
      "0 90 89 65 70 75 15 63 18 36 21 \n",
      "\n",
      "Max Heap after Popping the Root\n",
      "0 89 75 65 36 70 15 63 18 21 \n",
      "\n",
      "Max Heap after Removing 65\n",
      "0 89 75 63 36 70 15 21 18 \n",
      "\n",
      "Max Heap after Inserting 100\n",
      "0 100 89 63 75 70 15 21 18 36 \n",
      "\n",
      "Max Item 100\n",
      "Min Item 15\n"
     ]
    }
   ],
   "source": [
    "print('Max Heap Constructed from [89, 70, 15, 18, 21, 65, 63, 90, 36, 75]')\n",
    "maxheap = MaxHeap([89, 70, 15, 18, 21, 65, 63, 90, 36, 75])\n",
    "\n",
    "print('\\n\\nMax Heap after Popping the Root')\n",
    "maxheap.pop_item()\n",
    "\n",
    "print('\\n\\nMax Heap after Removing 65')\n",
    "maxheap.remove_item(65)\n",
    "\n",
    "print('\\n\\nMax Heap after Inserting 100')\n",
    "maxheap.insert_item(100)\n",
    "\n",
    "print('\\n\\nMax Item', maxheap.max_item())\n",
    "print('Min Item', maxheap.min_item())"
   ]
  },
  {
   "cell_type": "markdown",
   "metadata": {
    "scrolled": true
   },
   "source": [
    "### HASH MAP"
   ]
  },
  {
   "cell_type": "code",
   "execution_count": 31,
   "metadata": {
    "scrolled": true
   },
   "outputs": [],
   "source": [
    "class HashMap(object):\n",
    "    def __init__(self):\n",
    "        self.size = 10\n",
    "        self.map = [None] * self.size\n",
    "        \n",
    "    def get_hash(self, key):\n",
    "        hash_key = 0\n",
    "        for char in str(key):\n",
    "            hash_key += ord(char)\n",
    "        return hash_key % self.size\n",
    "    \n",
    "    def add_pair(self, key, value):\n",
    "        hash_key = self.get_hash(key)\n",
    "        key_value = [key, value]\n",
    "        \n",
    "        if self.map[hash_key] is None:\n",
    "            self.map[hash_key] = list([key_value])\n",
    "            return True\n",
    "        else:\n",
    "            for pair in self.map[hash_key]:\n",
    "                if pair[0] == key:\n",
    "                    pair[1] == value\n",
    "                    return True\n",
    "            self.map[hash_key].append(key_value)\n",
    "            return True\n",
    "\n",
    "    def remove_pair(self, key):\n",
    "        hash_key = self.get_hash(key)\n",
    "        \n",
    "        if self.map[hash_key] is not None:\n",
    "            for pair in self.map[hash_key]:\n",
    "                if pair[0] == key:\n",
    "                    self.map[hash_key].remove([key, pair[1]])\n",
    "                    return True\n",
    "        return False\n",
    "    \n",
    "    def get_value(self, key):\n",
    "        hash_key = self.get_hash(key)\n",
    "        if self.map[hash_key] is not None:\n",
    "            for pair in self.map[hash_key]:\n",
    "                if pair[0] == key:\n",
    "                    return pair[1]\n",
    "        return False\n",
    "    \n",
    "    def print_map(self):\n",
    "        for item in self.map:\n",
    "            if item is not None:\n",
    "                print(str(item))"
   ]
  },
  {
   "cell_type": "code",
   "execution_count": 32,
   "metadata": {
    "scrolled": true
   },
   "outputs": [
    {
     "name": "stdout",
     "output_type": "stream",
     "text": [
      "[['Mike', '567-2188']]\n",
      "[['Ankit', '293-8625']]\n",
      "[['Aditya', '852-6551']]\n",
      "[['Bob', '567-8888'], ['Ming', '293-6753']]\n",
      "[['Alicia', '632-4123']]\n"
     ]
    }
   ],
   "source": [
    "myhash = HashMap()\n",
    "myhash.add_pair('Bob', '567-8888')\n",
    "myhash.add_pair('Ming', '293-6753')\n",
    "myhash.add_pair('Ming', '333-8233')\n",
    "myhash.add_pair('Ankit', '293-8625')\n",
    "myhash.add_pair('Aditya', '852-6551')\n",
    "myhash.add_pair('Alicia', '632-4123')\n",
    "myhash.add_pair('Mike', '567-2188')\n",
    "myhash.add_pair('Aditya', '777-8888')\n",
    "\n",
    "myhash.print_map()"
   ]
  },
  {
   "cell_type": "code",
   "execution_count": 33,
   "metadata": {
    "scrolled": true
   },
   "outputs": [
    {
     "data": {
      "text/plain": [
       "'293-6753'"
      ]
     },
     "execution_count": 33,
     "metadata": {},
     "output_type": "execute_result"
    }
   ],
   "source": [
    "myhash.get_value('Ming')"
   ]
  },
  {
   "cell_type": "code",
   "execution_count": 34,
   "metadata": {
    "scrolled": true
   },
   "outputs": [
    {
     "name": "stdout",
     "output_type": "stream",
     "text": [
      "[['Mike', '567-2188']]\n",
      "[['Ankit', '293-8625']]\n",
      "[['Aditya', '852-6551']]\n",
      "[['Bob', '567-8888']]\n",
      "[['Alicia', '632-4123']]\n"
     ]
    }
   ],
   "source": [
    "myhash.remove_pair('Ming')\n",
    "myhash.print_map()"
   ]
  }
 ],
 "metadata": {
  "kernelspec": {
   "display_name": "Python 3",
   "language": "python",
   "name": "python3"
  },
  "language_info": {
   "codemirror_mode": {
    "name": "ipython",
    "version": 3
   },
   "file_extension": ".py",
   "mimetype": "text/x-python",
   "name": "python",
   "nbconvert_exporter": "python",
   "pygments_lexer": "ipython3",
   "version": "3.6.5"
  }
 },
 "nbformat": 4,
 "nbformat_minor": 2
}
