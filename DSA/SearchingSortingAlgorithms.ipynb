{
 "cells": [
  {
   "cell_type": "markdown",
   "metadata": {},
   "source": [
    "###### SEARCHING ALGORITHMS\n",
    "    * Linear Search\n",
    "    * Binary Search\n",
    "    \n",
    "###### SORTING ALGORITHMS\n",
    "    * Bubble Sort\n",
    "    * Selection Sort\n",
    "    * Insertion Sort\n",
    "    * Merge Sort\n",
    "    * QUick Sort\n",
    "    \n",
    "| Algorithm      |Time Complexity Worst|Time Complexity Average|Time Complexity Best|Space Complexity|\n",
    "|----------------|---------------------|-----------------------|--------------------|----------------|\n",
    "| Linear Search  |O(N)                 |O(N)                   |                    |                |\n",
    "| Binary Search  |O(logN)              |O(N)                   |                    |                |\n",
    "| Bubble Sort    |O($N^2$)             |O($N^2$)               |O(N)                |O(1)            |   \n",
    "| Selection Sort |O($N^2$)             |O($N^2$)               |O($N^2$)            |O(1)            |   \n",
    "| Insertion Sort |O($N^2$)             |O($N^2$)               |O(N)                |O(1)            |  \n",
    "| Merge Sort     |O(NlogN)             |O(NlogN)               |O(NlogN)            |O(N)            |   \n",
    "| Quick Sort     |O($N^2$)             |O(NlogN)               |O(NlogN)            |O(N)            | \n",
    "| Heap Sort      |O($N^2$)             |O(NlogN)               |O(NlogN)            |O(N)            | \n",
    "| Bucket Sort    |O($N^2$)             |O(NlogN)               |O(NlogN)            |O(N)            | "
   ]
  },
  {
   "cell_type": "markdown",
   "metadata": {},
   "source": [
    "#### COMPARISONS\n",
    "     * Randomly Ordered Inputs\n",
    "           Bubble < Selection < Insertion < Merge < Quick\n",
    "\n",
    "     * Already Sorted Input\n",
    "           Selection < Merge < Quick < Insertion < Bubble\n",
    "\n",
    "     * Reverse Sorted Input\n",
    "           Bubble < Insertion < Selection < Merge < Quick\n",
    "\n",
    "     * Randomly Ordered Input with Many Duplicates\n",
    "           Bubble < Selection < Insertion < Merge < Quick\n",
    "\n",
    "     * Python's built-in Tim sort is crazy fast in all test\n",
    "     * Bubble sort is very slow in all tests except in already sorted tests  \n",
    "     * Insertion sort is faster than Selection sort except in reverse sorted input\n",
    "     * Quick sort is generally faster than Merge sort"
   ]
  },
  {
   "cell_type": "markdown",
   "metadata": {},
   "source": [
    "#### LINEAR SEARCH"
   ]
  },
  {
   "cell_type": "code",
   "execution_count": 1,
   "metadata": {},
   "outputs": [],
   "source": [
    "def LinearSearch(a, x):\n",
    "    if len(a) == 0:\n",
    "        return 'Array is empty'\n",
    "    for i in range(0, len(a)):\n",
    "        if a[i] == x:\n",
    "            return i\n",
    "    return 'Not found'"
   ]
  },
  {
   "cell_type": "code",
   "execution_count": 2,
   "metadata": {},
   "outputs": [
    {
     "data": {
      "text/plain": [
       "8"
      ]
     },
     "execution_count": 2,
     "metadata": {},
     "output_type": "execute_result"
    }
   ],
   "source": [
    "LinearSearch([54,26,93,17,77,31,44,55,20], 20)"
   ]
  },
  {
   "cell_type": "code",
   "execution_count": 3,
   "metadata": {},
   "outputs": [
    {
     "data": {
      "text/plain": [
       "'Not found'"
      ]
     },
     "execution_count": 3,
     "metadata": {},
     "output_type": "execute_result"
    }
   ],
   "source": [
    "LinearSearch([54,26,93,17,77,31,44,55,20], 19)"
   ]
  },
  {
   "cell_type": "code",
   "execution_count": 4,
   "metadata": {},
   "outputs": [
    {
     "data": {
      "text/plain": [
       "'Array is empty'"
      ]
     },
     "execution_count": 4,
     "metadata": {},
     "output_type": "execute_result"
    }
   ],
   "source": [
    "LinearSearch([], 5)"
   ]
  },
  {
   "cell_type": "code",
   "execution_count": 5,
   "metadata": {},
   "outputs": [
    {
     "name": "stdout",
     "output_type": "stream",
     "text": [
      "Enter element to be searched: 93\n",
      "Found at  93\n"
     ]
    }
   ],
   "source": [
    "myarray = [54,26,93,17,77,31,44,55,20]\n",
    "element = int(input('Enter element to be searched: '))\n",
    "if element in myarray:\n",
    "    print('Found at ', element)\n",
    "else:\n",
    "    print('Not Found')"
   ]
  },
  {
   "cell_type": "markdown",
   "metadata": {},
   "source": [
    "#### BINARY SEARCH"
   ]
  },
  {
   "cell_type": "code",
   "execution_count": 6,
   "metadata": {},
   "outputs": [],
   "source": [
    "def BinarySearchIterative(a, x):\n",
    "    if len(a) == 0:\n",
    "        return 'Array is empty'\n",
    "    \n",
    "    start, end = 0, len(a)-1\n",
    "    while start <= end:\n",
    "        mid = (start+end) // 2\n",
    "        if a[mid] == x:\n",
    "            return mid\n",
    "        elif a[mid] > x:\n",
    "            end = mid - 1\n",
    "        else:\n",
    "            start = mid + 1\n",
    "    return 'Not found'"
   ]
  },
  {
   "cell_type": "code",
   "execution_count": 7,
   "metadata": {},
   "outputs": [
    {
     "data": {
      "text/plain": [
       "5"
      ]
     },
     "execution_count": 7,
     "metadata": {},
     "output_type": "execute_result"
    }
   ],
   "source": [
    "BinarySearchIterative([12, 45, 54, 69, 75, 99], 99)"
   ]
  },
  {
   "cell_type": "code",
   "execution_count": 8,
   "metadata": {},
   "outputs": [
    {
     "data": {
      "text/plain": [
       "'Not found'"
      ]
     },
     "execution_count": 8,
     "metadata": {},
     "output_type": "execute_result"
    }
   ],
   "source": [
    "BinarySearchIterative([12, 45, 54, 69, 75, 99], 100)"
   ]
  },
  {
   "cell_type": "code",
   "execution_count": 9,
   "metadata": {},
   "outputs": [
    {
     "data": {
      "text/plain": [
       "'Array is empty'"
      ]
     },
     "execution_count": 9,
     "metadata": {},
     "output_type": "execute_result"
    }
   ],
   "source": [
    "BinarySearchIterative([], 10)"
   ]
  },
  {
   "cell_type": "code",
   "execution_count": 10,
   "metadata": {},
   "outputs": [],
   "source": [
    "def BinarySearchRecursive(a, x, start, end):\n",
    "    if len(a) == 0:\n",
    "        return 'Array is empty'\n",
    "    \n",
    "    if start <= end:\n",
    "        mid = (start+end) // 2\n",
    "        if a[mid] == x:\n",
    "            return mid\n",
    "        elif a[mid] > x:\n",
    "            return BinarySearchRecursive(a, x, start, mid-1)\n",
    "        else:\n",
    "            return BinarySearchRecursive(a, x, mid+1, end)\n",
    "    return 'Not found'"
   ]
  },
  {
   "cell_type": "code",
   "execution_count": 11,
   "metadata": {},
   "outputs": [
    {
     "data": {
      "text/plain": [
       "5"
      ]
     },
     "execution_count": 11,
     "metadata": {},
     "output_type": "execute_result"
    }
   ],
   "source": [
    "myarr1 = [12, 45, 54, 69, 75, 99]\n",
    "BinarySearchRecursive(myarr1, 99, 0, len(myarr1) - 1)"
   ]
  },
  {
   "cell_type": "code",
   "execution_count": 12,
   "metadata": {},
   "outputs": [
    {
     "data": {
      "text/plain": [
       "'Not found'"
      ]
     },
     "execution_count": 12,
     "metadata": {},
     "output_type": "execute_result"
    }
   ],
   "source": [
    "BinarySearchRecursive(myarr1, 100, 0, len(myarr1) - 1)"
   ]
  },
  {
   "cell_type": "code",
   "execution_count": 13,
   "metadata": {},
   "outputs": [
    {
     "data": {
      "text/plain": [
       "'Array is empty'"
      ]
     },
     "execution_count": 13,
     "metadata": {},
     "output_type": "execute_result"
    }
   ],
   "source": [
    "BinarySearchRecursive([], 10, 0, 5)"
   ]
  },
  {
   "cell_type": "markdown",
   "metadata": {},
   "source": [
    "#### BUBBLE SORT    "
   ]
  },
  {
   "cell_type": "code",
   "execution_count": 14,
   "metadata": {},
   "outputs": [],
   "source": [
    "def BubbleSort(a):\n",
    "    if len(a) == 0:\n",
    "        return 'Array is empty'\n",
    "    \n",
    "    for i in range(0, len(a)-1):\n",
    "        for j in range(0, len(a)-1-i):\n",
    "            if a[j] > a[j+1]:\n",
    "                a[j], a[j+1] = a[j+1], a[j]\n",
    "    return a"
   ]
  },
  {
   "cell_type": "code",
   "execution_count": 15,
   "metadata": {},
   "outputs": [
    {
     "data": {
      "text/plain": [
       "[1, 3, 4, 6, 8, 9]"
      ]
     },
     "execution_count": 15,
     "metadata": {},
     "output_type": "execute_result"
    }
   ],
   "source": [
    "BubbleSort([4,8,3,6,9,1])"
   ]
  },
  {
   "cell_type": "code",
   "execution_count": 16,
   "metadata": {},
   "outputs": [
    {
     "data": {
      "text/plain": [
       "'Array is empty'"
      ]
     },
     "execution_count": 16,
     "metadata": {},
     "output_type": "execute_result"
    }
   ],
   "source": [
    "BubbleSort([])"
   ]
  },
  {
   "cell_type": "markdown",
   "metadata": {},
   "source": [
    "#### SELECTION SORT"
   ]
  },
  {
   "cell_type": "code",
   "execution_count": 17,
   "metadata": {},
   "outputs": [],
   "source": [
    "def SelectionSort(a):\n",
    "    if len(a) == 0:\n",
    "        return 'Array is empty'\n",
    "    \n",
    "    for i in range(0, len(a)-1):\n",
    "        minloc = i\n",
    "        for j in range(i+1, len(a)):\n",
    "            if a[j] < a[minloc]:\n",
    "                minloc = j\n",
    "        if i != minloc:\n",
    "            a[i], a[minloc] = a[minloc], a[i]\n",
    "    return a"
   ]
  },
  {
   "cell_type": "code",
   "execution_count": 18,
   "metadata": {},
   "outputs": [
    {
     "data": {
      "text/plain": [
       "[1, 3, 4, 6, 8, 9]"
      ]
     },
     "execution_count": 18,
     "metadata": {},
     "output_type": "execute_result"
    }
   ],
   "source": [
    "SelectionSort([4,8,3,6,9,1])"
   ]
  },
  {
   "cell_type": "markdown",
   "metadata": {},
   "source": [
    "#### INSERTION SORT"
   ]
  },
  {
   "cell_type": "code",
   "execution_count": 19,
   "metadata": {},
   "outputs": [],
   "source": [
    "def InsertionSort(a):\n",
    "    if len(a) == 0:\n",
    "        return 'Array is empty'\n",
    "    \n",
    "    for i in range(1, len(a)):\n",
    "        for j in range(i-1, -1, -1):\n",
    "            if a[j] > a[j+1]:\n",
    "                a[j], a[j+1] = a[j+1], a[j]\n",
    "            else:\n",
    "                break\n",
    "    return a"
   ]
  },
  {
   "cell_type": "code",
   "execution_count": 20,
   "metadata": {},
   "outputs": [
    {
     "data": {
      "text/plain": [
       "[1, 3, 4, 6, 8, 9]"
      ]
     },
     "execution_count": 20,
     "metadata": {},
     "output_type": "execute_result"
    }
   ],
   "source": [
    "InsertionSort([4,8,3,6,9,1])"
   ]
  },
  {
   "cell_type": "markdown",
   "metadata": {},
   "source": [
    "#### MERGE SORT"
   ]
  },
  {
   "cell_type": "code",
   "execution_count": 21,
   "metadata": {},
   "outputs": [],
   "source": [
    "def Merge(a, b):\n",
    "    c = []\n",
    "    a_idx, b_idx = 0, 0\n",
    "    while a_idx < len(a) and b_idx < len(b):\n",
    "        if a[a_idx] < b[b_idx]:\n",
    "            c.append(a[a_idx])\n",
    "            a_idx = a_idx + 1\n",
    "        else:\n",
    "            c.append(b[b_idx])\n",
    "            b_idx = b_idx + 1\n",
    "    if a_idx < len(a):\n",
    "        c.extend(a[a_idx:])\n",
    "    else:\n",
    "        c.extend(b[b_idx:])\n",
    "    return c"
   ]
  },
  {
   "cell_type": "code",
   "execution_count": 22,
   "metadata": {},
   "outputs": [],
   "source": [
    "def MergeSort(a):\n",
    "    if len(a) == 0:\n",
    "        return 'Array is empty'\n",
    "    if len(a) == 1:\n",
    "        return a\n",
    "    left, right = MergeSort(a[:len(a)//2]), MergeSort(a[len(a)//2:])\n",
    "    return Merge(left, right)"
   ]
  },
  {
   "cell_type": "code",
   "execution_count": 23,
   "metadata": {},
   "outputs": [
    {
     "data": {
      "text/plain": [
       "[1, 2, 4, 6, 7, 9]"
      ]
     },
     "execution_count": 23,
     "metadata": {},
     "output_type": "execute_result"
    }
   ],
   "source": [
    "MergeSort([9, 7, 1, 4, 6, 2])"
   ]
  },
  {
   "cell_type": "code",
   "execution_count": 24,
   "metadata": {},
   "outputs": [
    {
     "data": {
      "text/plain": [
       "'Array is empty'"
      ]
     },
     "execution_count": 24,
     "metadata": {},
     "output_type": "execute_result"
    }
   ],
   "source": [
    "MergeSort([])"
   ]
  },
  {
   "cell_type": "code",
   "execution_count": 25,
   "metadata": {},
   "outputs": [
    {
     "data": {
      "text/plain": [
       "[76]"
      ]
     },
     "execution_count": 25,
     "metadata": {},
     "output_type": "execute_result"
    }
   ],
   "source": [
    "MergeSort([76])"
   ]
  },
  {
   "cell_type": "markdown",
   "metadata": {},
   "source": [
    "#### QUICK SORT"
   ]
  },
  {
   "cell_type": "code",
   "execution_count": 26,
   "metadata": {},
   "outputs": [],
   "source": [
    "from random import randint \n",
    "def QuickSort(a):\n",
    "    if len(a) == 0:\n",
    "        return a\n",
    "    smaller, equalto, larger = [], [], []\n",
    "    pivot = a[randint(0, len(a)-1)]\n",
    "    for x in a:\n",
    "        if x < pivot:\n",
    "            smaller.append(x)\n",
    "        elif x == pivot:\n",
    "            equalto.append(x)\n",
    "        else:\n",
    "            larger.append(x)\n",
    "    result = QuickSort(smaller) + equalto + QuickSort(larger)\n",
    "    return result"
   ]
  },
  {
   "cell_type": "code",
   "execution_count": 27,
   "metadata": {},
   "outputs": [
    {
     "data": {
      "text/plain": [
       "[1, 2, 4, 6, 7, 9]"
      ]
     },
     "execution_count": 27,
     "metadata": {},
     "output_type": "execute_result"
    }
   ],
   "source": [
    "QuickSort([9, 7, 1, 4, 6, 2])"
   ]
  },
  {
   "cell_type": "code",
   "execution_count": 28,
   "metadata": {},
   "outputs": [
    {
     "data": {
      "text/plain": [
       "[]"
      ]
     },
     "execution_count": 28,
     "metadata": {},
     "output_type": "execute_result"
    }
   ],
   "source": [
    "QuickSort([])"
   ]
  }
 ],
 "metadata": {
  "kernelspec": {
   "display_name": "Python 3",
   "language": "python",
   "name": "python3"
  },
  "language_info": {
   "codemirror_mode": {
    "name": "ipython",
    "version": 3
   },
   "file_extension": ".py",
   "mimetype": "text/x-python",
   "name": "python",
   "nbconvert_exporter": "python",
   "pygments_lexer": "ipython3",
   "version": "3.6.5"
  }
 },
 "nbformat": 4,
 "nbformat_minor": 2
}
