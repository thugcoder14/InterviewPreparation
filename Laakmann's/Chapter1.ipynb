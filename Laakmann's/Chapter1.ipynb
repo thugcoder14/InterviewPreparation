{
 "cells": [
  {
   "cell_type": "code",
   "execution_count": 1,
   "metadata": {},
   "outputs": [],
   "source": [
    "import unittest"
   ]
  },
  {
   "cell_type": "markdown",
   "metadata": {},
   "source": [
    "### Chapter 1 - Arrays and Strings"
   ]
  },
  {
   "cell_type": "markdown",
   "metadata": {},
   "source": [
    "##### Probem 1 - Is Unique: Implement an algorithm to determine if a string has all unique characters. What if you cannot use additional data structures?"
   ]
  },
  {
   "cell_type": "code",
   "execution_count": 2,
   "metadata": {},
   "outputs": [],
   "source": [
    "def IsUnique(s):\n",
    "    for i in range(0, len(s)-1):\n",
    "        for j in range(i+1, len(s)):\n",
    "            if s[i] == s[j]:\n",
    "                return True\n",
    "    return False\n",
    "def IsUnique1(s):\n",
    "    u = set(s)\n",
    "    if len(u) == len(s):\n",
    "        return False\n",
    "    return True"
   ]
  },
  {
   "cell_type": "markdown",
   "metadata": {},
   "source": [
    "##### Problem 2 - Check Permutation: Given two strings,write a method to decide if one is a permutation of the other."
   ]
  },
  {
   "cell_type": "code",
   "execution_count": 3,
   "metadata": {},
   "outputs": [],
   "source": [
    "def CheckPermutation(s1, s2):\n",
    "    if len(s1) < len(s2):\n",
    "        s1, s2 = s2, s1\n",
    "    for a in s2:\n",
    "        if a not in s1:\n",
    "            return False\n",
    "    return True"
   ]
  },
  {
   "cell_type": "markdown",
   "metadata": {},
   "source": [
    "##### Problem 3 - URLify: Write a method to replace all spaces in a string with '%20'. You may assume that the string has sufficient space at the end to hold the additional characters,and that you are given the \"true\" length of the string. (Note: If implementing in Java,please use a character array so that you can perform this operation in place.)\n",
    "\n",
    "EXAMPLE <br>\n",
    "Input: \"Mr John Smith \" <br>\n",
    "13 Output: \"Mr%20John%20Smith\""
   ]
  },
  {
   "cell_type": "code",
   "execution_count": 4,
   "metadata": {},
   "outputs": [],
   "source": [
    "def URLify(s):\n",
    "    if len(s) > 0:\n",
    "        res = s.rstrip().replace(' ', '%20')\n",
    "        return res"
   ]
  },
  {
   "cell_type": "markdown",
   "metadata": {},
   "source": [
    "##### Problem 4 - Palindrome Permutation: Given a string, write a function to check if it is a permutation of a palindrome. A palindrome is a word or phrase that is the same forwards and backwards. A permutation is a rearrangement of letters. The palindrome does not need to be limited to just dictionary words.\n",
    "\n",
    "EXAMPLE <br>\n",
    "Input: Tact Coa <br>\n",
    "Output: True (permutations: \"taco cat\", \"atco cta\", etc.)"
   ]
  },
  {
   "cell_type": "code",
   "execution_count": 5,
   "metadata": {},
   "outputs": [],
   "source": [
    "def PalindromePermutation(s):\n",
    "    s1 = s.replace(' ','').lower()\n",
    "    mydict = {}\n",
    "    for i in s1:\n",
    "        mydict[i] = s1.count(i)\n",
    "\n",
    "    ## string even, all values are even\n",
    "    ## string odd, one value is odd\n",
    "    no_of_odd = 0\n",
    "    for k, v in mydict.items():\n",
    "        if v % 2 != 0:\n",
    "            no_of_odd+=1\n",
    "    if no_of_odd == 0 and len(s1)%2 == 0:\n",
    "        return True\n",
    "    elif no_of_odd == 1 and len(s1)%2 != 0:\n",
    "        return True\n",
    "    else:\n",
    "        return False"
   ]
  },
  {
   "cell_type": "code",
   "execution_count": 6,
   "metadata": {},
   "outputs": [],
   "source": [
    "def PalindromePermutation1(s):\n",
    "    mydict = {}\n",
    "    if len(s) > 0:\n",
    "        for char in s.replace(' ', '').lower():\n",
    "            if char in mydict.keys():\n",
    "                mydict[char] += 1\n",
    "            else:\n",
    "                mydict[char] = 1\n",
    "        num = 0 \n",
    "        for key in mydict.keys():\n",
    "            if mydict[key] % 2 == 1:\n",
    "                num += 1\n",
    "                if num > 1:\n",
    "                    return False\n",
    "    return True"
   ]
  },
  {
   "cell_type": "markdown",
   "metadata": {},
   "source": [
    "##### Problem 5 - One Away: There are three types of edits that can be performed on strings: insert a character, remove a character, or replace a character. Given two strings, write a function to check if they are one edit (or zero edits) away.\n",
    "EXAMPLE <br>\n",
    "pale, ple -> true <br>\n",
    "pales, pale -> true <br>\n",
    "pale, bale -> true <br>\n",
    "pale, bake -> false"
   ]
  },
  {
   "cell_type": "code",
   "execution_count": 7,
   "metadata": {},
   "outputs": [],
   "source": [
    "def OneAway1(s1, s2):\n",
    "    if len(s1) < len(s2):\n",
    "        s1, s2 = s2, s1\n",
    "    \n",
    "    # Zeroes Edits\n",
    "    if s1 == s2:\n",
    "        return True\n",
    "    \n",
    "    # One Edit - Delete or Insert\n",
    "    elif len(s1) - len(s2) == 1:\n",
    "        for i in range(len(s1)):\n",
    "            if s1[:i] + s1[i+1:] == s2:\n",
    "                return True\n",
    "        return False\n",
    "\n",
    "    # One Edit - Replace\n",
    "    elif len(s1) == len(s2):\n",
    "        replacements = sum(1 for i in range(len(s1)) if s1[i] != s2[i])\n",
    "        return replacements < 2\n",
    "    \n",
    "    # Many Edits:\n",
    "    else:\n",
    "        return False"
   ]
  },
  {
   "cell_type": "markdown",
   "metadata": {},
   "source": [
    "##### Problem 6 - String Compression: Implement a method to perform basic string compression using the counts of repeated characters. For example, the string aabcccccaaa would become a2blc5a3. If the \"compressed\" string would not become smaller than the original string, your method should return the original string. You can assume the string has only uppercase and lowercase letters (a - z)."
   ]
  },
  {
   "cell_type": "code",
   "execution_count": 8,
   "metadata": {},
   "outputs": [],
   "source": [
    "def Compress(s):\n",
    "    count = 0\n",
    "    res = s[0]\n",
    "    for i in range(0, len(s)-1):\n",
    "        if s[i] == s[i+1]:\n",
    "            count += 1\n",
    "        else:\n",
    "            res += str(count)\n",
    "            res += s[i+1]\n",
    "            count = 1\n",
    "    if count > 1:\n",
    "        res += str(count)\n",
    "    return res"
   ]
  },
  {
   "cell_type": "code",
   "execution_count": 9,
   "metadata": {},
   "outputs": [],
   "source": [
    "def Compress1(s):\n",
    "    res = [s[0], 1]\n",
    "    for i in range(1, len(s)):\n",
    "        if s[i] == s[i-1]:\n",
    "            res[-1] = res[-1] + 1\n",
    "        else:\n",
    "            res.append(s[i])\n",
    "            res.append(1)\n",
    "    mystr = ''\n",
    "    for each in res:\n",
    "        mystr += str(each)\n",
    "    return mystr"
   ]
  },
  {
   "cell_type": "markdown",
   "metadata": {},
   "source": [
    "##### Problem 7 - Rotate Matrix: Given an image represented by an NxN matrix, where each pixel in the image is 4 bytes, write a method to rotate the image by 90 degrees. Can you do this in place?\n",
    "\n",
    "    * Reference - https://www.youtube.com/watch?v=Jtu6dJ0Cb94\n",
    "    \n",
    "    [[1, 2], \n",
    "      [4, 5]] \n",
    "        \n",
    "        TO\n",
    "        \n",
    "    [[4, 1], \n",
    "      [5, 2]] \n",
    "\n",
    "    [[4, 9, 6], \n",
    "     [5, 2, 3],\n",
    "     [7, 8, 1]] \n",
    "        \n",
    "        TO\n",
    "        \n",
    "    [[7, 5, 4], \n",
    "      [8, 2, 9],\n",
    "      [1, 3, 6]] \n",
    "\n",
    "    [[0, 1, 2, 3], \n",
    "     [4, 5, 6, 7],\n",
    "     [8, 9, 10, 11],\n",
    "     [12, 13, 14, 15]] \n",
    "        \n",
    "        TO\n",
    "        \n",
    "    [[12, 8, 4, 0], \n",
    "      [13, 9, 5, 1],\n",
    "      [14, 10, 6, 2],\n",
    "      [15, 11, 7, 3]] "
   ]
  },
  {
   "cell_type": "code",
   "execution_count": 10,
   "metadata": {},
   "outputs": [],
   "source": [
    "def RotateMatrix(a, degree, direction):\n",
    "    times = degree//90\n",
    "    \n",
    "    for n in range(0, times):\n",
    "        last = len(a[0]) - 1\n",
    "        level = 0\n",
    "        totLevels = len(a[0]) // 2\n",
    "        \n",
    "        while level < totLevels:\n",
    "            for i in range(level, last):\n",
    "                if direction:\n",
    "                    a[level][i], a[i][last] = a[i][last], a[level][i]\n",
    "                    a[level][i], a[last][last-i+level] = a[last][last-i+level], a[level][i]\n",
    "                    a[level][i], a[last-i+level][level] = a[last-i+level][level], a[level][i]\n",
    "                else:\n",
    "                    a[last][last-i+level], a[i][last] = a[i][last], a[last][last-i+level]\n",
    "                    a[last][last-i+level], a[level][i] = a[level][i], a[last][last-i+level]\n",
    "                    a[last][last-i+level], a[last-i+level][level] = a[last-i+level][level], a[last][last-i+level] \n",
    "            level += 1\n",
    "            last -= 1\n",
    "    return a      "
   ]
  },
  {
   "cell_type": "markdown",
   "metadata": {},
   "source": [
    "##### Problem 8 - Zero Matrix: Write an algorithm such that if an element in an MxN matrix is 0, its entire row and column are set to 0.\n",
    "\n",
    "    * Refer https://www.youtube.com/watch?v=ZzpJgRvqSJQ&t=31s\n",
    "    \n",
    "    [[1, 2, 3],           [[1, 0, 3]\n",
    "     [4, 0, 6],  --------  [0, 0, 0],\n",
    "     [7, 8, 9]]            [7, 0, 9]]\n",
    "\n",
    "    [[0, 2, 3],           [[0, 0, 0]\n",
    "     [4, 5, 6],  --------  [0, 5, 6],\n",
    "     [7, 8, 9]]            [0, 8, 9]]\n",
    "\n",
    "     [[1, 2, 3],          [[1, 2, 0]\n",
    "      [4, 5, 6],  -------- [4, 5, 0],\n",
    "      [7, 8, 0]]           [0, 0, 0]]"
   ]
  },
  {
   "cell_type": "code",
   "execution_count": 11,
   "metadata": {},
   "outputs": [],
   "source": [
    "def SetZeroes(a):\n",
    "    rowZero = False\n",
    "    colZero = False\n",
    "    \n",
    "    # Check if elements in the first row is zero\n",
    "    for i in range(len(a[0])):\n",
    "        if a[0][i] == 0:\n",
    "            rowZero = True\n",
    "            \n",
    "    # Check if elements in the first column is zero\n",
    "    for j in range(len(a)):\n",
    "        if a[j][0] == 0:\n",
    "            colZero = True\n",
    "    \n",
    "    # Iterate through all elements not belonging to either first row or first column\n",
    "    for i in range(1, len(a)):\n",
    "        for j in range(1, len(a[0])):\n",
    "            if a[i][j] == 0:\n",
    "                a[i][0], a[0][j] = 0, 0\n",
    "    \n",
    "    # Iterate through all elements belonging to either first row or first column except [0,0]\n",
    "    for i in range(1, len(a)):\n",
    "        for j in range(1, len(a[0])):\n",
    "            if a[i][0] == 0 or a[0][j] == 0:\n",
    "                a[i][j] = 0\n",
    "    \n",
    "    if rowZero:\n",
    "        for i in range(len(a[0])):\n",
    "            a[0][i] = 0\n",
    "    \n",
    "    if colZero:\n",
    "        for j in range(len(a)):\n",
    "            a[j][0] = 0\n",
    "    print(a)"
   ]
  },
  {
   "cell_type": "markdown",
   "metadata": {},
   "source": [
    "##### Problem 9 - Assume you have a method isSubstring which checks if one word is a substring of another. Given two strings, sl and s2, write code to check if s2 is a rotation of sl using only one call to isSubstring \n",
    "(e.g.,\"waterbottle\" is a rotation of\"erbottlewat\")"
   ]
  },
  {
   "cell_type": "code",
   "execution_count": 12,
   "metadata": {},
   "outputs": [],
   "source": [
    "def IsSubstring(s1, s2):\n",
    "    dict1 = get_dict(s1)\n",
    "    dict2 = get_dict(s2)\n",
    "    print(dict1)\n",
    "    print(dict2)\n",
    "    return dict1 == dict2\n",
    "\n",
    "def get_dict(string):\n",
    "    mydict = {}\n",
    "    for a in string.lower():\n",
    "        if a in mydict.keys():\n",
    "            mydict[a] += 1\n",
    "        else:\n",
    "            mydict[a] = 1\n",
    "    return mydict\n"
   ]
  }
 ],
 "metadata": {
  "kernelspec": {
   "display_name": "Python 3",
   "language": "python",
   "name": "python3"
  },
  "language_info": {
   "codemirror_mode": {
    "name": "ipython",
    "version": 3
   },
   "file_extension": ".py",
   "mimetype": "text/x-python",
   "name": "python",
   "nbconvert_exporter": "python",
   "pygments_lexer": "ipython3",
   "version": "3.6.5"
  }
 },
 "nbformat": 4,
 "nbformat_minor": 2
}
